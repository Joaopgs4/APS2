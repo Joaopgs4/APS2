{
 "cells": [
  {
   "cell_type": "code",
   "execution_count": 15,
   "metadata": {},
   "outputs": [
    {
     "data": {
      "text/html": [
       "<div>\n",
       "<style scoped>\n",
       "    .dataframe tbody tr th:only-of-type {\n",
       "        vertical-align: middle;\n",
       "    }\n",
       "\n",
       "    .dataframe tbody tr th {\n",
       "        vertical-align: top;\n",
       "    }\n",
       "\n",
       "    .dataframe thead th {\n",
       "        text-align: right;\n",
       "    }\n",
       "</style>\n",
       "<table border=\"1\" class=\"dataframe\">\n",
       "  <thead>\n",
       "    <tr style=\"text-align: right;\">\n",
       "      <th></th>\n",
       "      <th>review</th>\n",
       "      <th>sentiment</th>\n",
       "    </tr>\n",
       "  </thead>\n",
       "  <tbody>\n",
       "    <tr>\n",
       "      <th>0</th>\n",
       "      <td>One of the other reviewers has mentioned that ...</td>\n",
       "      <td>positive</td>\n",
       "    </tr>\n",
       "    <tr>\n",
       "      <th>1</th>\n",
       "      <td>A wonderful little production The filming tech...</td>\n",
       "      <td>positive</td>\n",
       "    </tr>\n",
       "    <tr>\n",
       "      <th>2</th>\n",
       "      <td>I thought this was a wonderful way to spend ti...</td>\n",
       "      <td>positive</td>\n",
       "    </tr>\n",
       "    <tr>\n",
       "      <th>3</th>\n",
       "      <td>Basically theres a family where a little boy J...</td>\n",
       "      <td>negative</td>\n",
       "    </tr>\n",
       "    <tr>\n",
       "      <th>4</th>\n",
       "      <td>Petter Matteis Love in the Time of Money is a ...</td>\n",
       "      <td>positive</td>\n",
       "    </tr>\n",
       "  </tbody>\n",
       "</table>\n",
       "</div>"
      ],
      "text/plain": [
       "                                              review sentiment\n",
       "0  One of the other reviewers has mentioned that ...  positive\n",
       "1  A wonderful little production The filming tech...  positive\n",
       "2  I thought this was a wonderful way to spend ti...  positive\n",
       "3  Basically theres a family where a little boy J...  negative\n",
       "4  Petter Matteis Love in the Time of Money is a ...  positive"
      ]
     },
     "execution_count": 15,
     "metadata": {},
     "output_type": "execute_result"
    }
   ],
   "source": [
    "#limpa df, comeca etc\n",
    "\n",
    "import pandas as pd\n",
    "import numpy as np\n",
    "import re\n",
    "\n",
    "df = pd.read_csv('data/IMDB.csv' , encoding='utf-8')\n",
    "\n",
    "def clean_t(t):\n",
    "    t_clean = re.sub(r'<.*?>', '', t)\n",
    "    t_clean = re.sub(r'[^\\w\\s]', '', t_clean)\n",
    "    return t_clean\n",
    "\n",
    "df['review'] = df['review'].apply(clean_t)\n",
    "df.head()"
   ]
  },
  {
   "cell_type": "code",
   "execution_count": 56,
   "metadata": {},
   "outputs": [
    {
     "data": {
      "text/html": [
       "<div>\n",
       "<style scoped>\n",
       "    .dataframe tbody tr th:only-of-type {\n",
       "        vertical-align: middle;\n",
       "    }\n",
       "\n",
       "    .dataframe tbody tr th {\n",
       "        vertical-align: top;\n",
       "    }\n",
       "\n",
       "    .dataframe thead th {\n",
       "        text-align: right;\n",
       "    }\n",
       "</style>\n",
       "<table border=\"1\" class=\"dataframe\">\n",
       "  <thead>\n",
       "    <tr style=\"text-align: right;\">\n",
       "      <th></th>\n",
       "      <th>review</th>\n",
       "      <th>sentiment</th>\n",
       "    </tr>\n",
       "  </thead>\n",
       "  <tbody>\n",
       "    <tr>\n",
       "      <th>0</th>\n",
       "      <td>One of the other reviewers has mentioned that ...</td>\n",
       "      <td>positive</td>\n",
       "    </tr>\n",
       "    <tr>\n",
       "      <th>1</th>\n",
       "      <td>A wonderful little production The filming tech...</td>\n",
       "      <td>positive</td>\n",
       "    </tr>\n",
       "    <tr>\n",
       "      <th>2</th>\n",
       "      <td>I thought this was a wonderful way to spend ti...</td>\n",
       "      <td>positive</td>\n",
       "    </tr>\n",
       "    <tr>\n",
       "      <th>3</th>\n",
       "      <td>Basically theres a family where a little boy J...</td>\n",
       "      <td>negative</td>\n",
       "    </tr>\n",
       "    <tr>\n",
       "      <th>4</th>\n",
       "      <td>Petter Matteis Love in the Time of Money is a ...</td>\n",
       "      <td>positive</td>\n",
       "    </tr>\n",
       "  </tbody>\n",
       "</table>\n",
       "</div>"
      ],
      "text/plain": [
       "                                              review sentiment\n",
       "0  One of the other reviewers has mentioned that ...  positive\n",
       "1  A wonderful little production The filming tech...  positive\n",
       "2  I thought this was a wonderful way to spend ti...  positive\n",
       "3  Basically theres a family where a little boy J...  negative\n",
       "4  Petter Matteis Love in the Time of Money is a ...  positive"
      ]
     },
     "execution_count": 56,
     "metadata": {},
     "output_type": "execute_result"
    }
   ],
   "source": [
    "#fazendo o treino\n",
    "df_treino = df.iloc[:10]\n",
    "df_treino.head()"
   ]
  },
  {
   "cell_type": "code",
   "execution_count": 59,
   "metadata": {},
   "outputs": [
    {
     "name": "stdout",
     "output_type": "stream",
     "text": [
      "{'one': {'positive': 10, 'negative': 3}, 'of': {'positive': 28, 'negative': 10}, 'the': {'positive': 65, 'negative': 28}, 'other': {'positive': 2, 'negative': 0}, 'reviewers': {'positive': 1, 'negative': 0}, 'has': {'positive': 4, 'negative': 1}, 'mentioned': {'positive': 1, 'negative': 0}, 'that': {'positive': 7, 'negative': 6}, 'after': {'positive': 1, 'negative': 1}, 'watching': {'positive': 4, 'negative': 1}, 'just': {'positive': 3, 'negative': 3}, '1': {'positive': 1, 'negative': 0}, 'oz': {'positive': 5, 'negative': 0}, 'episode': {'positive': 2, 'negative': 0}, 'youll': {'positive': 1, 'negative': 0}, 'be': {'positive': 9, 'negative': 2}, 'hooked': {'positive': 1, 'negative': 0}, 'they': {'positive': 4, 'negative': 0}, 'are': {'positive': 8, 'negative': 3}, 'right': {'positive': 3, 'negative': 0}, 'as': {'positive': 6, 'negative': 4}, 'this': {'positive': 14, 'negative': 9}, 'is': {'positive': 26, 'negative': 11}, 'exactly': {'positive': 2, 'negative': 0}, 'what': {'positive': 4, 'negative': 0}, 'happened': {'positive': 1, 'negative': 0}, 'with': {'positive': 13, 'negative': 4}, 'methe': {'positive': 1, 'negative': 0}, 'first': {'positive': 2, 'negative': 3}, 'thing': {'positive': 2, 'negative': 1}, 'struck': {'positive': 2, 'negative': 0}, 'me': {'positive': 6, 'negative': 1}, 'about': {'positive': 6, 'negative': 1}, 'was': {'positive': 7, 'negative': 3}, 'its': {'positive': 3, 'negative': 5}, 'brutality': {'positive': 1, 'negative': 0}, 'and': {'positive': 32, 'negative': 9}, 'unflinching': {'positive': 1, 'negative': 0}, 'scenes': {'positive': 2, 'negative': 0}, 'violence': {'positive': 4, 'negative': 0}, 'which': {'positive': 3, 'negative': 1}, 'set': {'positive': 1, 'negative': 0}, 'in': {'positive': 19, 'negative': 5}, 'from': {'positive': 1, 'negative': 1}, 'word': {'positive': 1, 'negative': 0}, 'go': {'positive': 3, 'negative': 0}, 'trust': {'positive': 1, 'negative': 0}, 'not': {'positive': 9, 'negative': 2}, 'a': {'positive': 29, 'negative': 15}, 'show': {'positive': 3, 'negative': 6}, 'for': {'positive': 10, 'negative': 5}, 'faint': {'positive': 1, 'negative': 0}, 'hearted': {'positive': 1, 'negative': 0}, 'or': {'positive': 7, 'negative': 2}, 'timid': {'positive': 1, 'negative': 0}, 'pulls': {'positive': 1, 'negative': 0}, 'no': {'positive': 2, 'negative': 1}, 'punches': {'positive': 1, 'negative': 0}, 'regards': {'positive': 1, 'negative': 0}, 'to': {'positive': 28, 'negative': 9}, 'drugs': {'positive': 1, 'negative': 0}, 'sex': {'positive': 1, 'negative': 0}, 'hardcore': {'positive': 1, 'negative': 0}, 'classic': {'positive': 1, 'negative': 0}, 'use': {'positive': 2, 'negative': 0}, 'wordit': {'positive': 1, 'negative': 0}, 'called': {'positive': 1, 'negative': 0}, 'nickname': {'positive': 1, 'negative': 0}, 'given': {'positive': 1, 'negative': 0}, 'oswald': {'positive': 1, 'negative': 0}, 'maximum': {'positive': 1, 'negative': 0}, 'security': {'positive': 1, 'negative': 0}, 'state': {'positive': 1, 'negative': 0}, 'penitentary': {'positive': 1, 'negative': 0}, 'it': {'positive': 14, 'negative': 5}, 'focuses': {'positive': 1, 'negative': 0}, 'mainly': {'positive': 1, 'negative': 0}, 'on': {'positive': 7, 'negative': 3}, 'emerald': {'positive': 1, 'negative': 0}, 'city': {'positive': 3, 'negative': 0}, 'an': {'positive': 2, 'negative': 2}, 'experimental': {'positive': 1, 'negative': 0}, 'section': {'positive': 1, 'negative': 0}, 'prison': {'positive': 3, 'negative': 0}, 'where': {'positive': 3, 'negative': 1}, 'all': {'positive': 6, 'negative': 3}, 'cells': {'positive': 1, 'negative': 0}, 'have': {'positive': 5, 'negative': 2}, 'glass': {'positive': 1, 'negative': 0}, 'fronts': {'positive': 1, 'negative': 0}, 'face': {'positive': 1, 'negative': 0}, 'inwards': {'positive': 1, 'negative': 0}, 'so': {'positive': 4, 'negative': 2}, 'privacy': {'positive': 1, 'negative': 0}, 'high': {'positive': 2, 'negative': 0}, 'agenda': {'positive': 1, 'negative': 0}, 'em': {'positive': 1, 'negative': 0}, 'home': {'positive': 2, 'negative': 0}, 'manyaryans': {'positive': 1, 'negative': 0}, 'muslims': {'positive': 1, 'negative': 0}, 'gangstas': {'positive': 1, 'negative': 0}, 'latinos': {'positive': 1, 'negative': 0}, 'christians': {'positive': 1, 'negative': 0}, 'italians': {'positive': 1, 'negative': 0}, 'irish': {'positive': 1, 'negative': 0}, 'moreso': {'positive': 1, 'negative': 0}, 'scuffles': {'positive': 1, 'negative': 0}, 'death': {'positive': 1, 'negative': 0}, 'stares': {'positive': 1, 'negative': 0}, 'dodgy': {'positive': 1, 'negative': 0}, 'dealings': {'positive': 1, 'negative': 0}, 'shady': {'positive': 1, 'negative': 0}, 'agreements': {'positive': 1, 'negative': 0}, 'never': {'positive': 3, 'negative': 0}, 'far': {'positive': 1, 'negative': 2}, 'awayi': {'positive': 1, 'negative': 0}, 'would': {'positive': 6, 'negative': 0}, 'say': {'positive': 3, 'negative': 0}, 'main': {'positive': 1, 'negative': 0}, 'appeal': {'positive': 1, 'negative': 0}, 'due': {'positive': 2, 'negative': 0}, 'fact': {'positive': 1, 'negative': 0}, 'goes': {'positive': 1, 'negative': 0}, 'shows': {'positive': 1, 'negative': 0}, 'wouldnt': {'positive': 1, 'negative': 1}, 'dare': {'positive': 2, 'negative': 0}, 'forget': {'positive': 3, 'negative': 0}, 'pretty': {'positive': 1, 'negative': 0}, 'pictures': {'positive': 1, 'negative': 0}, 'painted': {'positive': 1, 'negative': 0}, 'mainstream': {'positive': 1, 'negative': 0}, 'audiences': {'positive': 1, 'negative': 0}, 'charm': {'positive': 1, 'negative': 0}, 'romanceoz': {'positive': 1, 'negative': 0}, 'doesnt': {'positive': 1, 'negative': 0}, 'mess': {'positive': 1, 'negative': 0}, 'around': {'positive': 1, 'negative': 0}, 'i': {'positive': 13, 'negative': 8}, 'ever': {'positive': 1, 'negative': 0}, 'saw': {'positive': 1, 'negative': 0}, 'nasty': {'positive': 1, 'negative': 1}, 'surreal': {'positive': 1, 'negative': 0}, 'couldnt': {'positive': 1, 'negative': 0}, 'ready': {'positive': 1, 'negative': 0}, 'but': {'positive': 10, 'negative': 1}, 'watched': {'positive': 1, 'negative': 1}, 'more': {'positive': 6, 'negative': 0}, 'developed': {'positive': 1, 'negative': 0}, 'taste': {'positive': 1, 'negative': 0}, 'got': {'positive': 3, 'negative': 0}, 'accustomed': {'positive': 1, 'negative': 0}, 'levels': {'positive': 1, 'negative': 0}, 'graphic': {'positive': 1, 'negative': 0}, 'injustice': {'positive': 1, 'negative': 0}, 'crooked': {'positive': 1, 'negative': 0}, 'guards': {'positive': 1, 'negative': 0}, 'wholl': {'positive': 2, 'negative': 0}, 'sold': {'positive': 1, 'negative': 0}, 'out': {'positive': 3, 'negative': 2}, 'nickel': {'positive': 1, 'negative': 0}, 'inmates': {'positive': 2, 'negative': 0}, 'kill': {'positive': 1, 'negative': 1}, 'order': {'positive': 1, 'negative': 0}, 'get': {'positive': 2, 'negative': 0}, 'away': {'positive': 1, 'negative': 0}, 'well': {'positive': 5, 'negative': 1}, 'mannered': {'positive': 1, 'negative': 0}, 'middle': {'positive': 1, 'negative': 0}, 'class': {'positive': 1, 'negative': 0}, 'being': {'positive': 2, 'negative': 0}, 'turned': {'positive': 1, 'negative': 0}, 'into': {'positive': 2, 'negative': 0}, 'bitches': {'positive': 1, 'negative': 0}, 'their': {'positive': 3, 'negative': 0}, 'lack': {'positive': 1, 'negative': 0}, 'street': {'positive': 1, 'negative': 0}, 'skills': {'positive': 1, 'negative': 0}, 'experience': {'positive': 1, 'negative': 0}, 'you': {'positive': 9, 'negative': 1}, 'may': {'positive': 3, 'negative': 0}, 'become': {'positive': 1, 'negative': 1}, 'comfortable': {'positive': 1, 'negative': 0}, 'uncomfortable': {'positive': 1, 'negative': 0}, 'viewingthats': {'positive': 1, 'negative': 0}, 'if': {'positive': 4, 'negative': 2}, 'can': {'positive': 2, 'negative': 1}, 'touch': {'positive': 1, 'negative': 0}, 'your': {'positive': 1, 'negative': 0}, 'darker': {'positive': 1, 'negative': 0}, 'side': {'positive': 1, 'negative': 0}, 'wonderful': {'positive': 2, 'negative': 0}, 'little': {'positive': 2, 'negative': 1}, 'production': {'positive': 2, 'negative': 0}, 'filming': {'positive': 1, 'negative': 0}, 'technique': {'positive': 1, 'negative': 0}, 'very': {'positive': 3, 'negative': 0}, 'unassuming': {'positive': 1, 'negative': 0}, 'oldtimebbc': {'positive': 1, 'negative': 0}, 'fashion': {'positive': 1, 'negative': 0}, 'gives': {'positive': 1, 'negative': 0}, 'comforting': {'positive': 1, 'negative': 0}, 'sometimes': {'positive': 1, 'negative': 0}, 'discomforting': {'positive': 1, 'negative': 0}, 'sense': {'positive': 1, 'negative': 0}, 'realism': {'positive': 2, 'negative': 0}, 'entire': {'positive': 1, 'negative': 0}, 'piece': {'positive': 2, 'negative': 0}, 'actors': {'positive': 1, 'negative': 0}, 'extremely': {'positive': 1, 'negative': 0}, 'chosen': {'positive': 1, 'negative': 0}, 'michael': {'positive': 2, 'negative': 0}, 'sheen': {'positive': 1, 'negative': 0}, 'only': {'positive': 4, 'negative': 3}, 'polari': {'positive': 1, 'negative': 0}, 'he': {'positive': 1, 'negative': 1}, 'voices': {'positive': 1, 'negative': 0}, 'down': {'positive': 2, 'negative': 0}, 'pat': {'positive': 1, 'negative': 0}, 'too': {'positive': 2, 'negative': 0}, 'truly': {'positive': 2, 'negative': 2}, 'see': {'positive': 4, 'negative': 3}, 'seamless': {'positive': 1, 'negative': 0}, 'editing': {'positive': 1, 'negative': 1}, 'guided': {'positive': 1, 'negative': 0}, 'by': {'positive': 2, 'negative': 2}, 'references': {'positive': 1, 'negative': 0}, 'williams': {'positive': 1, 'negative': 0}, 'diary': {'positive': 1, 'negative': 0}, 'entries': {'positive': 1, 'negative': 0}, 'worth': {'positive': 1, 'negative': 0}, 'terrificly': {'positive': 1, 'negative': 0}, 'written': {'positive': 1, 'negative': 0}, 'performed': {'positive': 1, 'negative': 0}, 'masterful': {'positive': 1, 'negative': 0}, 'great': {'positive': 2, 'negative': 0}, 'masters': {'positive': 1, 'negative': 0}, 'comedy': {'positive': 3, 'negative': 0}, 'his': {'positive': 3, 'negative': 4}, 'life': {'positive': 1, 'negative': 1}, 'really': {'positive': 1, 'negative': 1}, 'comes': {'positive': 1, 'negative': 0}, 'things': {'positive': 1, 'negative': 1}, 'fantasy': {'positive': 1, 'negative': 0}, 'guard': {'positive': 1, 'negative': 0}, 'rather': {'positive': 1, 'negative': 0}, 'than': {'positive': 4, 'negative': 2}, 'traditional': {'positive': 1, 'negative': 0}, 'dream': {'positive': 1, 'negative': 0}, 'techniques': {'positive': 1, 'negative': 0}, 'remains': {'positive': 1, 'negative': 0}, 'solid': {'positive': 1, 'negative': 0}, 'then': {'positive': 3, 'negative': 2}, 'disappears': {'positive': 1, 'negative': 0}, 'plays': {'positive': 1, 'negative': 0}, 'our': {'positive': 2, 'negative': 0}, 'knowledge': {'positive': 1, 'negative': 0}, 'senses': {'positive': 1, 'negative': 0}, 'particularly': {'positive': 2, 'negative': 0}, 'concerning': {'positive': 1, 'negative': 0}, 'orton': {'positive': 1, 'negative': 0}, 'halliwell': {'positive': 1, 'negative': 0}, 'sets': {'positive': 1, 'negative': 0}, 'flat': {'positive': 1, 'negative': 0}, 'halliwells': {'positive': 1, 'negative': 0}, 'murals': {'positive': 1, 'negative': 0}, 'decorating': {'positive': 1, 'negative': 0}, 'every': {'positive': 2, 'negative': 1}, 'surface': {'positive': 1, 'negative': 0}, 'terribly': {'positive': 1, 'negative': 0}, 'done': {'positive': 1, 'negative': 0}, 'thought': {'positive': 2, 'negative': 0}, 'way': {'positive': 4, 'negative': 1}, 'spend': {'positive': 1, 'negative': 0}, 'time': {'positive': 3, 'negative': 1}, 'hot': {'positive': 1, 'negative': 0}, 'summer': {'positive': 1, 'negative': 0}, 'weekend': {'positive': 1, 'negative': 0}, 'sitting': {'positive': 1, 'negative': 0}, 'air': {'positive': 1, 'negative': 2}, 'conditioned': {'positive': 1, 'negative': 0}, 'theater': {'positive': 1, 'negative': 0}, 'lighthearted': {'positive': 1, 'negative': 0}, 'plot': {'positive': 1, 'negative': 0}, 'simplistic': {'positive': 1, 'negative': 0}, 'dialogue': {'positive': 1, 'negative': 0}, 'witty': {'positive': 1, 'negative': 0}, 'characters': {'positive': 3, 'negative': 0}, 'likable': {'positive': 1, 'negative': 0}, 'even': {'positive': 2, 'negative': 0}, 'bread': {'positive': 1, 'negative': 0}, 'suspected': {'positive': 1, 'negative': 0}, 'serial': {'positive': 1, 'negative': 0}, 'killer': {'positive': 1, 'negative': 0}, 'while': {'positive': 2, 'negative': 1}, 'some': {'positive': 3, 'negative': 1}, 'disappointed': {'positive': 1, 'negative': 0}, 'when': {'positive': 1, 'negative': 2}, 'realize': {'positive': 1, 'negative': 0}, 'match': {'positive': 1, 'negative': 0}, 'point': {'positive': 2, 'negative': 0}, '2': {'positive': 1, 'negative': 1}, 'risk': {'positive': 1, 'negative': 0}, 'addiction': {'positive': 1, 'negative': 0}, 'proof': {'positive': 1, 'negative': 0}, 'woody': {'positive': 1, 'negative': 0}, 'allen': {'positive': 1, 'negative': 0}, 'still': {'positive': 1, 'negative': 2}, 'fully': {'positive': 1, 'negative': 0}, 'control': {'positive': 1, 'negative': 0}, 'style': {'positive': 1, 'negative': 0}, 'many': {'positive': 3, 'negative': 0}, 'us': {'positive': 3, 'negative': 0}, 'grown': {'positive': 1, 'negative': 0}, 'lovethis': {'positive': 1, 'negative': 0}, 'most': {'positive': 2, 'negative': 0}, 'id': {'positive': 1, 'negative': 0}, 'laughed': {'positive': 1, 'negative': 0}, 'at': {'positive': 1, 'negative': 1}, 'woodys': {'positive': 1, 'negative': 0}, 'comedies': {'positive': 1, 'negative': 0}, 'years': {'positive': 2, 'negative': 1}, 'decade': {'positive': 1, 'negative': 0}, 'ive': {'positive': 2, 'negative': 1}, 'been': {'positive': 1, 'negative': 1}, 'impressed': {'positive': 1, 'negative': 0}, 'scarlet': {'positive': 1, 'negative': 0}, 'johanson': {'positive': 1, 'negative': 0}, 'she': {'positive': 1, 'negative': 0}, 'managed': {'positive': 1, 'negative': 0}, 'tone': {'positive': 1, 'negative': 0}, 'her': {'positive': 3, 'negative': 0}, 'sexy': {'positive': 1, 'negative': 0}, 'image': {'positive': 1, 'negative': 0}, 'jumped': {'positive': 1, 'negative': 0}, 'average': {'positive': 1, 'negative': 0}, 'spirited': {'positive': 1, 'negative': 0}, 'young': {'positive': 2, 'negative': 0}, 'womanthis': {'positive': 1, 'negative': 0}, 'crown': {'positive': 1, 'negative': 0}, 'jewel': {'positive': 1, 'negative': 0}, 'career': {'positive': 1, 'negative': 0}, 'wittier': {'positive': 1, 'negative': 0}, 'devil': {'positive': 1, 'negative': 0}, 'wears': {'positive': 1, 'negative': 0}, 'prada': {'positive': 1, 'negative': 0}, 'interesting': {'positive': 1, 'negative': 0}, 'superman': {'positive': 1, 'negative': 0}, 'friends': {'positive': 1, 'negative': 0}, 'basically': {'positive': 0, 'negative': 1}, 'theres': {'positive': 0, 'negative': 2}, 'family': {'positive': 0, 'negative': 1}, 'boy': {'positive': 0, 'negative': 1}, 'jake': {'positive': 0, 'negative': 4}, 'thinks': {'positive': 0, 'negative': 1}, 'zombie': {'positive': 0, 'negative': 1}, 'closet': {'positive': 0, 'negative': 2}, 'parents': {'positive': 0, 'negative': 3}, 'fighting': {'positive': 0, 'negative': 1}, 'timethis': {'positive': 0, 'negative': 1}, 'movie': {'positive': 5, 'negative': 3}, 'slower': {'positive': 0, 'negative': 1}, 'soap': {'positive': 0, 'negative': 1}, 'opera': {'positive': 0, 'negative': 1}, 'suddenly': {'positive': 0, 'negative': 1}, 'decides': {'positive': 0, 'negative': 1}, 'rambo': {'positive': 0, 'negative': 1}, 'zombieok': {'positive': 0, 'negative': 1}, 'youre': {'positive': 0, 'negative': 1}, 'going': {'positive': 0, 'negative': 1}, 'make': {'positive': 1, 'negative': 1}, 'film': {'positive': 2, 'negative': 6}, 'must': {'positive': 1, 'negative': 2}, 'decide': {'positive': 0, 'negative': 1}, 'thriller': {'positive': 0, 'negative': 2}, 'drama': {'positive': 0, 'negative': 3}, 'watchable': {'positive': 0, 'negative': 1}, 'divorcing': {'positive': 0, 'negative': 1}, 'arguing': {'positive': 0, 'negative': 1}, 'like': {'positive': 5, 'negative': 1}, 'real': {'positive': 0, 'negative': 1}, 'we': {'positive': 3, 'negative': 1}, 'totally': {'positive': 0, 'negative': 1}, 'ruins': {'positive': 0, 'negative': 1}, 'expected': {'positive': 0, 'negative': 1}, 'boogeyman': {'positive': 0, 'negative': 1}, 'similar': {'positive': 0, 'negative': 1}, 'instead': {'positive': 0, 'negative': 1}, 'meaningless': {'positive': 0, 'negative': 1}, 'spots3': {'positive': 0, 'negative': 1}, '10': {'positive': 1, 'negative': 1}, 'playing': {'positive': 0, 'negative': 1}, 'descent': {'positive': 0, 'negative': 1}, 'dialogs': {'positive': 0, 'negative': 1}, 'shots': {'positive': 0, 'negative': 1}, 'ignore': {'positive': 0, 'negative': 1}, 'them': {'positive': 1, 'negative': 2}, 'petter': {'positive': 1, 'negative': 0}, 'matteis': {'positive': 2, 'negative': 0}, 'love': {'positive': 2, 'negative': 0}, 'money': {'positive': 2, 'negative': 0}, 'visually': {'positive': 1, 'negative': 0}, 'stunning': {'positive': 1, 'negative': 0}, 'watch': {'positive': 2, 'negative': 0}, 'mr': {'positive': 3, 'negative': 0}, 'mattei': {'positive': 2, 'negative': 0}, 'offers': {'positive': 1, 'negative': 0}, 'vivid': {'positive': 1, 'negative': 0}, 'portrait': {'positive': 1, 'negative': 0}, 'human': {'positive': 2, 'negative': 0}, 'relations': {'positive': 2, 'negative': 0}, 'seems': {'positive': 2, 'negative': 1}, 'telling': {'positive': 1, 'negative': 0}, 'power': {'positive': 1, 'negative': 0}, 'success': {'positive': 1, 'negative': 1}, 'do': {'positive': 2, 'negative': 0}, 'people': {'positive': 3, 'negative': 0}, 'different': {'positive': 3, 'negative': 0}, 'situations': {'positive': 1, 'negative': 0}, 'encounter': {'positive': 1, 'negative': 0}, 'variation': {'positive': 1, 'negative': 0}, 'arthur': {'positive': 1, 'negative': 0}, 'schnitzlers': {'positive': 1, 'negative': 0}, 'play': {'positive': 1, 'negative': 0}, 'same': {'positive': 1, 'negative': 1}, 'theme': {'positive': 1, 'negative': 0}, 'director': {'positive': 1, 'negative': 0}, 'transfers': {'positive': 1, 'negative': 0}, 'action': {'positive': 1, 'negative': 0}, 'present': {'positive': 1, 'negative': 0}, 'new': {'positive': 2, 'negative': 0}, 'york': {'positive': 1, 'negative': 0}, 'these': {'positive': 4, 'negative': 0}, 'meet': {'positive': 1, 'negative': 0}, 'connect': {'positive': 1, 'negative': 0}, 'each': {'positive': 2, 'negative': 0}, 'connected': {'positive': 1, 'negative': 0}, 'another': {'positive': 1, 'negative': 0}, 'next': {'positive': 2, 'negative': 0}, 'person': {'positive': 1, 'negative': 0}, 'know': {'positive': 1, 'negative': 0}, 'previous': {'positive': 1, 'negative': 0}, 'contact': {'positive': 1, 'negative': 0}, 'stylishly': {'positive': 1, 'negative': 0}, 'sophisticated': {'positive': 1, 'negative': 0}, 'luxurious': {'positive': 1, 'negative': 0}, 'look': {'positive': 1, 'negative': 0}, 'taken': {'positive': 1, 'negative': 0}, 'how': {'positive': 1, 'negative': 2}, 'live': {'positive': 2, 'negative': 0}, 'world': {'positive': 3, 'negative': 0}, 'own': {'positive': 2, 'negative': 0}, 'habitatthe': {'positive': 1, 'negative': 0}, 'gets': {'positive': 2, 'negative': 0}, 'souls': {'positive': 1, 'negative': 0}, 'picture': {'positive': 1, 'negative': 0}, 'stages': {'positive': 1, 'negative': 0}, 'loneliness': {'positive': 1, 'negative': 0}, 'inhabits': {'positive': 1, 'negative': 0}, 'big': {'positive': 1, 'negative': 0}, 'best': {'positive': 1, 'negative': 1}, 'place': {'positive': 1, 'negative': 0}, 'find': {'positive': 1, 'negative': 1}, 'sincere': {'positive': 1, 'negative': 0}, 'fulfillment': {'positive': 1, 'negative': 0}, 'discerns': {'positive': 1, 'negative': 0}, 'case': {'positive': 1, 'negative': 0}, 'encounterthe': {'positive': 1, 'negative': 0}, 'acting': {'positive': 1, 'negative': 1}, 'good': {'positive': 2, 'negative': 0}, 'under': {'positive': 3, 'negative': 0}, 'direction': {'positive': 1, 'negative': 0}, 'steve': {'positive': 1, 'negative': 0}, 'buscemi': {'positive': 1, 'negative': 0}, 'rosario': {'positive': 1, 'negative': 0}, 'dawson': {'positive': 1, 'negative': 0}, 'carol': {'positive': 1, 'negative': 0}, 'kane': {'positive': 1, 'negative': 0}, 'imperioli': {'positive': 1, 'negative': 0}, 'adrian': {'positive': 1, 'negative': 0}, 'grenier': {'positive': 1, 'negative': 0}, 'rest': {'positive': 1, 'negative': 0}, 'talented': {'positive': 1, 'negative': 0}, 'cast': {'positive': 1, 'negative': 2}, 'come': {'positive': 1, 'negative': 0}, 'alivewe': {'positive': 1, 'negative': 0}, 'wish': {'positive': 1, 'negative': 0}, 'luck': {'positive': 1, 'negative': 0}, 'await': {'positive': 1, 'negative': 0}, 'anxiously': {'positive': 1, 'negative': 0}, 'work': {'positive': 2, 'negative': 0}, 'probably': {'positive': 1, 'negative': 1}, 'my': {'positive': 7, 'negative': 0}, 'alltime': {'positive': 1, 'negative': 0}, 'favorite': {'positive': 1, 'negative': 0}, 'story': {'positive': 1, 'negative': 0}, 'selflessness': {'positive': 1, 'negative': 0}, 'sacrifice': {'positive': 1, 'negative': 0}, 'dedication': {'positive': 1, 'negative': 0}, 'noble': {'positive': 1, 'negative': 0}, 'cause': {'positive': 1, 'negative': 0}, 'preachy': {'positive': 1, 'negative': 0}, 'boring': {'positive': 1, 'negative': 1}, 'old': {'positive': 2, 'negative': 0}, 'despite': {'positive': 1, 'negative': 0}, 'having': {'positive': 1, 'negative': 0}, 'seen': {'positive': 1, 'negative': 1}, '15': {'positive': 1, 'negative': 0}, 'times': {'positive': 1, 'negative': 1}, 'last': {'positive': 1, 'negative': 0}, '25': {'positive': 1, 'negative': 0}, 'paul': {'positive': 1, 'negative': 0}, 'lukas': {'positive': 1, 'negative': 0}, 'performance': {'positive': 1, 'negative': 1}, 'brings': {'positive': 1, 'negative': 0}, 'tears': {'positive': 1, 'negative': 0}, 'eyes': {'positive': 1, 'negative': 0}, 'bette': {'positive': 1, 'negative': 0}, 'davis': {'positive': 1, 'negative': 0}, 'few': {'positive': 1, 'negative': 0}, 'sympathetic': {'positive': 1, 'negative': 0}, 'roles': {'positive': 1, 'negative': 0}, 'delight': {'positive': 1, 'negative': 0}, 'kids': {'positive': 1, 'negative': 0}, 'grandma': {'positive': 1, 'negative': 0}, 'says': {'positive': 1, 'negative': 0}, 'dressedup': {'positive': 1, 'negative': 0}, 'midgets': {'positive': 1, 'negative': 0}, 'children': {'positive': 1, 'negative': 0}, 'makes': {'positive': 1, 'negative': 0}, 'fun': {'positive': 1, 'negative': 0}, 'mothers': {'positive': 1, 'negative': 0}, 'slow': {'positive': 1, 'negative': 0}, 'awakening': {'positive': 1, 'negative': 0}, 'whats': {'positive': 1, 'negative': 0}, 'happening': {'positive': 1, 'negative': 0}, 'roof': {'positive': 1, 'negative': 0}, 'believable': {'positive': 1, 'negative': 0}, 'startling': {'positive': 1, 'negative': 0}, 'had': {'positive': 1, 'negative': 0}, 'dozen': {'positive': 1, 'negative': 0}, 'thumbs': {'positive': 1, 'negative': 0}, 'theyd': {'positive': 1, 'negative': 0}, 'up': {'positive': 3, 'negative': 0}, 'sure': {'positive': 1, 'negative': 0}, 'resurrection': {'positive': 1, 'negative': 0}, 'dated': {'positive': 1, 'negative': 0}, 'seahunt': {'positive': 2, 'negative': 0}, 'series': {'positive': 1, 'negative': 0}, 'tech': {'positive': 1, 'negative': 0}, 'today': {'positive': 1, 'negative': 0}, 'bring': {'positive': 1, 'negative': 0}, 'back': {'positive': 1, 'negative': 0}, 'kid': {'positive': 1, 'negative': 0}, 'excitement': {'positive': 1, 'negative': 0}, 'mei': {'positive': 1, 'negative': 0}, 'grew': {'positive': 1, 'negative': 0}, 'black': {'positive': 1, 'negative': 0}, 'white': {'positive': 1, 'negative': 0}, 'tv': {'positive': 3, 'negative': 0}, 'gunsmoke': {'positive': 1, 'negative': 0}, 'were': {'positive': 1, 'negative': 1}, 'heros': {'positive': 1, 'negative': 0}, 'weekyou': {'positive': 1, 'negative': 0}, 'vote': {'positive': 1, 'negative': 0}, 'comeback': {'positive': 1, 'negative': 0}, 'sea': {'positive': 2, 'negative': 0}, 'huntwe': {'positive': 1, 'negative': 0}, 'need': {'positive': 1, 'negative': 0}, 'change': {'positive': 1, 'negative': 0}, 'pace': {'positive': 1, 'negative': 0}, 'water': {'positive': 1, 'negative': 0}, 'adventureoh': {'positive': 1, 'negative': 0}, 'thank': {'positive': 1, 'negative': 0}, 'outlet': {'positive': 1, 'negative': 0}, 'view': {'positive': 1, 'negative': 0}, 'viewpoints': {'positive': 1, 'negative': 0}, 'moviesso': {'positive': 1, 'negative': 0}, 'any': {'positive': 1, 'negative': 0}, 'ole': {'positive': 1, 'negative': 0}, 'believe': {'positive': 1, 'negative': 2}, 'wanna': {'positive': 1, 'negative': 0}, 'saywould': {'positive': 1, 'negative': 0}, 'nice': {'positive': 1, 'negative': 0}, 'read': {'positive': 1, 'negative': 0}, 'plus': {'positive': 1, 'negative': 0}, 'points': {'positive': 1, 'negative': 0}, 'huntif': {'positive': 1, 'negative': 0}, 'rhymes': {'positive': 1, 'negative': 0}, 'lines': {'positive': 1, 'negative': 0}, 'let': {'positive': 1, 'negative': 0}, 'submitor': {'positive': 1, 'negative': 0}, 'leave': {'positive': 1, 'negative': 0}, 'doubt': {'positive': 1, 'negative': 0}, 'quitif': {'positive': 1, 'negative': 0}, 'lets': {'positive': 1, 'negative': 0}, 'amazing': {'positive': 0, 'negative': 1}, 'fresh': {'positive': 0, 'negative': 1}, 'innovative': {'positive': 0, 'negative': 1}, 'idea': {'positive': 0, 'negative': 1}, '70s': {'positive': 0, 'negative': 1}, 'aired': {'positive': 0, 'negative': 1}, '7': {'positive': 0, 'negative': 1}, '8': {'positive': 0, 'negative': 1}, 'brilliant': {'positive': 0, 'negative': 1}, 'dropped': {'positive': 0, 'negative': 1}, 'off': {'positive': 0, 'negative': 1}, '1990': {'positive': 0, 'negative': 1}, 'funny': {'positive': 0, 'negative': 1}, 'anymore': {'positive': 0, 'negative': 1}, 'continued': {'positive': 0, 'negative': 1}, 'decline': {'positive': 0, 'negative': 1}, 'further': {'positive': 0, 'negative': 1}, 'complete': {'positive': 0, 'negative': 1}, 'waste': {'positive': 0, 'negative': 1}, 'todayits': {'positive': 0, 'negative': 1}, 'disgraceful': {'positive': 0, 'negative': 1}, 'fallen': {'positive': 0, 'negative': 1}, 'writing': {'positive': 0, 'negative': 1}, 'painfully': {'positive': 0, 'negative': 1}, 'bad': {'positive': 0, 'negative': 3}, 'performances': {'positive': 0, 'negative': 1}, 'almost': {'positive': 0, 'negative': 2}, 'mildly': {'positive': 0, 'negative': 1}, 'entertaining': {'positive': 0, 'negative': 1}, 'respite': {'positive': 0, 'negative': 1}, 'guesthosts': {'positive': 0, 'negative': 1}, 'hard': {'positive': 0, 'negative': 1}, 'creator': {'positive': 0, 'negative': 1}, 'handselected': {'positive': 0, 'negative': 1}, 'original': {'positive': 1, 'negative': 2}, 'also': {'positive': 0, 'negative': 1}, 'chose': {'positive': 0, 'negative': 1}, 'band': {'positive': 0, 'negative': 1}, 'hacks': {'positive': 0, 'negative': 1}, 'followed': {'positive': 0, 'negative': 1}, 'recognize': {'positive': 0, 'negative': 1}, 'such': {'positive': 0, 'negative': 3}, 'brilliance': {'positive': 0, 'negative': 1}, 'fit': {'positive': 0, 'negative': 1}, 'replace': {'positive': 0, 'negative': 1}, 'mediocrity': {'positive': 0, 'negative': 1}, 'felt': {'positive': 0, 'negative': 1}, 'give': {'positive': 0, 'negative': 1}, 'stars': {'positive': 0, 'negative': 1}, 'respect': {'positive': 0, 'negative': 1}, 'made': {'positive': 0, 'negative': 1}, 'huge': {'positive': 0, 'negative': 1}, 'now': {'positive': 0, 'negative': 1}, 'awful': {'positive': 0, 'negative': 2}, 'cant': {'positive': 0, 'negative': 1}, 'encouraged': {'positive': 0, 'negative': 1}, 'positive': {'positive': 0, 'negative': 1}, 'comments': {'positive': 0, 'negative': 1}, 'here': {'positive': 0, 'negative': 1}, 'looking': {'positive': 0, 'negative': 1}, 'forward': {'positive': 0, 'negative': 1}, 'mistake': {'positive': 0, 'negative': 1}, '950': {'positive': 0, 'negative': 1}, 'films': {'positive': 0, 'negative': 2}, 'worst': {'positive': 0, 'negative': 1}, 'pacing': {'positive': 0, 'negative': 1}, 'storyline': {'positive': 0, 'negative': 1}, 'soundtrack': {'positive': 0, 'negative': 1}, 'song': {'positive': 0, 'negative': 1}, 'lame': {'positive': 0, 'negative': 1}, 'country': {'positive': 0, 'negative': 1}, 'tune': {'positive': 0, 'negative': 1}, 'played': {'positive': 0, 'negative': 1}, 'less': {'positive': 0, 'negative': 1}, 'four': {'positive': 0, 'negative': 1}, 'looks': {'positive': 0, 'negative': 1}, 'cheap': {'positive': 0, 'negative': 1}, 'extreme': {'positive': 0, 'negative': 1}, 'rarely': {'positive': 0, 'negative': 1}, 'happy': {'positive': 0, 'negative': 1}, 'end': {'positive': 0, 'negative': 1}, 'credits': {'positive': 0, 'negative': 1}, 'prevents': {'positive': 0, 'negative': 1}, 'giving': {'positive': 0, 'negative': 1}, '1score': {'positive': 0, 'negative': 1}, 'harvey': {'positive': 0, 'negative': 1}, 'keitel': {'positive': 0, 'negative': 2}, 'least': {'positive': 0, 'negative': 1}, 'making': {'positive': 0, 'negative': 1}, 'bit': {'positive': 0, 'negative': 1}, 'effort': {'positive': 0, 'negative': 1}, 'obsessives': {'positive': 0, 'negative': 1}, 'gut': {'positive': 1, 'negative': 0}, 'wrenching': {'positive': 1, 'negative': 0}, 'laughter': {'positive': 1, 'negative': 0}, 'will': {'positive': 2, 'negative': 0}, 'hell': {'positive': 1, 'negative': 0}, 'mom': {'positive': 1, 'negative': 0}, 'liked': {'positive': 1, 'negative': 0}, 'itgreat': {'positive': 1, 'negative': 0}, 'camp': {'positive': 1, 'negative': 0}}\n"
     ]
    }
   ],
   "source": [
    "#fazendo a dict de palavras nao repetidas\n",
    "\n",
    "\n",
    "# Inicializa os dicionários de contagem para positivos e negativos\n",
    "contagem_palavras = {}\n",
    "\n",
    "# Itera sobre os textos e sentimentos\n",
    "for texto, sentimento in zip(df_treino['review'], df_treino['sentiment']):\n",
    "    palavras = texto.lower().split()  # Divide o texto em palavras\n",
    "    for palavra in palavras:\n",
    "        if palavra not in contagem_palavras:\n",
    "            contagem_palavras[palavra] = {'positive': 0, 'negative': 0}\n",
    "        contagem_palavras[palavra][sentimento] += 1\n",
    "\n",
    "print(contagem_palavras)\n"
   ]
  },
  {
   "cell_type": "code",
   "execution_count": 14,
   "metadata": {},
   "outputs": [
    {
     "data": {
      "text/html": [
       "<div>\n",
       "<style scoped>\n",
       "    .dataframe tbody tr th:only-of-type {\n",
       "        vertical-align: middle;\n",
       "    }\n",
       "\n",
       "    .dataframe tbody tr th {\n",
       "        vertical-align: top;\n",
       "    }\n",
       "\n",
       "    .dataframe thead th {\n",
       "        text-align: right;\n",
       "    }\n",
       "</style>\n",
       "<table border=\"1\" class=\"dataframe\">\n",
       "  <thead>\n",
       "    <tr style=\"text-align: right;\">\n",
       "      <th></th>\n",
       "      <th>review</th>\n",
       "      <th>sentiment</th>\n",
       "    </tr>\n",
       "  </thead>\n",
       "  <tbody>\n",
       "    <tr>\n",
       "      <th>25000</th>\n",
       "      <td>This movie was bad from the start The only pur...</td>\n",
       "      <td>negative</td>\n",
       "    </tr>\n",
       "    <tr>\n",
       "      <th>25001</th>\n",
       "      <td>God I never felt so insulted in my whole life ...</td>\n",
       "      <td>negative</td>\n",
       "    </tr>\n",
       "    <tr>\n",
       "      <th>25002</th>\n",
       "      <td>Not being a fan of the Coen Brothers or George...</td>\n",
       "      <td>positive</td>\n",
       "    </tr>\n",
       "    <tr>\n",
       "      <th>25003</th>\n",
       "      <td>The movie Andaz Apna Apna in my books is the t...</td>\n",
       "      <td>positive</td>\n",
       "    </tr>\n",
       "    <tr>\n",
       "      <th>25004</th>\n",
       "      <td>I have to say I was really looking forward on ...</td>\n",
       "      <td>negative</td>\n",
       "    </tr>\n",
       "  </tbody>\n",
       "</table>\n",
       "</div>"
      ],
      "text/plain": [
       "                                                  review sentiment\n",
       "25000  This movie was bad from the start The only pur...  negative\n",
       "25001  God I never felt so insulted in my whole life ...  negative\n",
       "25002  Not being a fan of the Coen Brothers or George...  positive\n",
       "25003  The movie Andaz Apna Apna in my books is the t...  positive\n",
       "25004  I have to say I was really looking forward on ...  negative"
      ]
     },
     "execution_count": 14,
     "metadata": {},
     "output_type": "execute_result"
    }
   ],
   "source": [
    "df_teste = df.iloc[25000:]\n",
    "df_teste.head()"
   ]
  }
 ],
 "metadata": {
  "kernelspec": {
   "display_name": "Python 3",
   "language": "python",
   "name": "python3"
  },
  "language_info": {
   "codemirror_mode": {
    "name": "ipython",
    "version": 3
   },
   "file_extension": ".py",
   "mimetype": "text/x-python",
   "name": "python",
   "nbconvert_exporter": "python",
   "pygments_lexer": "ipython3",
   "version": "3.10.9"
  },
  "orig_nbformat": 4
 },
 "nbformat": 4,
 "nbformat_minor": 2
}
